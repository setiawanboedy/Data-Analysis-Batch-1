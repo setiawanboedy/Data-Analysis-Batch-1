{
 "cells": [
  {
   "cell_type": "markdown",
   "metadata": {},
   "source": [
    "# Data Analysis Batch 1"
   ]
  },
  {
   "cell_type": "markdown",
   "metadata": {},
   "source": [
    "Lab komputasi sabtu, 7 maret 2020"
   ]
  },
  {
   "cell_type": "markdown",
   "metadata": {},
   "source": [
    "Kenalan Yuk!! dengan mainan anak science ini\n",
    "1. Apa itu data analysis ?\n",
    "2. Apa yang dikerjakan sebagai data analysis ?\n",
    "3. Apa saja tools yang digunakan untuk memudahkan analysis data ?\n",
    "4. Dimana saya bisa belajar tentang data analysis ini ?\n",
    "4. Dimana saya bisa bekerja sebagai seorang data analysis ?\n",
    "5. Berapa reward yang diterima jika menjadi seorang data analysis ?"
   ]
  },
  {
   "cell_type": "markdown",
   "metadata": {},
   "source": [
    "### Langkah awal data analysis\n",
    "1. Memahami sebuah data\n",
    "2. Import dan Export Data ke dalam Python\n",
    "3. Memulai Analysis Data dengan Python\n",
    "4. Library yang digunakan untuk data analysis dan data science"
   ]
  },
  {
   "cell_type": "markdown",
   "metadata": {},
   "source": [
    "    a. Pandas (Data Structure)\n",
    "    b. Numpy (Array dan Matrik)\n",
    "    c. Scipy (Menyelesakan persamaan turunan, integral etc)\n",
    "    d. Matplotlib (Visualisasi data)"
   ]
  },
  {
   "cell_type": "code",
   "execution_count": null,
   "metadata": {},
   "outputs": [],
   "source": [
    "#import library\n"
   ]
  },
  {
   "cell_type": "code",
   "execution_count": null,
   "metadata": {},
   "outputs": [],
   "source": [
    "#import data\n",
    "#data = pd.read_csv(data, option)\n"
   ]
  },
  {
   "cell_type": "code",
   "execution_count": null,
   "metadata": {},
   "outputs": [],
   "source": [
    "#take peek data\n",
    "#type(data)\n",
    "#data.head(option)\n"
   ]
  },
  {
   "cell_type": "code",
   "execution_count": null,
   "metadata": {},
   "outputs": [],
   "source": [
    "#change title \n",
    "#data = data.rename(columns = {'before':'after'})\n"
   ]
  },
  {
   "cell_type": "code",
   "execution_count": null,
   "metadata": {},
   "outputs": [],
   "source": [
    "#select row\n",
    "#single_row = data[data.year == 2014]\n",
    "#multi_roe = data[1:3]\n"
   ]
  },
  {
   "cell_type": "code",
   "execution_count": null,
   "metadata": {},
   "outputs": [],
   "source": [
    "#select column\n",
    "#single_column = data.cost\n",
    "#multi_column = data[['Cost','Profit']]\n"
   ]
  },
  {
   "cell_type": "code",
   "execution_count": null,
   "metadata": {},
   "outputs": [],
   "source": [
    "#select specific data\n",
    "#data.loc[2,'Profit']\n",
    "#multi select\n",
    "#data.loc[[2,5],['Cost','Profit']]\n"
   ]
  },
  {
   "cell_type": "code",
   "execution_count": null,
   "metadata": {},
   "outputs": [],
   "source": [
    "#iloc reverse loc\n",
    "#data.iloc[2:7,1:3]\n"
   ]
  },
  {
   "cell_type": "code",
   "execution_count": null,
   "metadata": {},
   "outputs": [],
   "source": [
    "#see the describe of data\n",
    "#data.describe()\n"
   ]
  },
  {
   "cell_type": "code",
   "execution_count": null,
   "metadata": {},
   "outputs": [],
   "source": [
    "#plot with matplotlib\n"
   ]
  }
 ],
 "metadata": {
  "kernelspec": {
   "display_name": "Python 3",
   "language": "python",
   "name": "python3"
  },
  "language_info": {
   "codemirror_mode": {
    "name": "ipython",
    "version": 3
   },
   "file_extension": ".py",
   "mimetype": "text/x-python",
   "name": "python",
   "nbconvert_exporter": "python",
   "pygments_lexer": "ipython3",
   "version": "3.6.9"
  }
 },
 "nbformat": 4,
 "nbformat_minor": 4
}
